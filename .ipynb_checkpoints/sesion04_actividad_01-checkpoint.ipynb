{
 "cells": [
  {
   "cell_type": "code",
   "execution_count": 1,
   "metadata": {},
   "outputs": [
    {
     "name": "stderr",
     "output_type": "stream",
     "text": [
      "2023-06-08 19:14:12.427578: I tensorflow/tsl/cuda/cudart_stub.cc:28] Could not find cuda drivers on your machine, GPU will not be used.\n",
      "2023-06-08 19:14:12.470975: I tensorflow/tsl/cuda/cudart_stub.cc:28] Could not find cuda drivers on your machine, GPU will not be used.\n",
      "2023-06-08 19:14:12.471660: I tensorflow/core/platform/cpu_feature_guard.cc:182] This TensorFlow binary is optimized to use available CPU instructions in performance-critical operations.\n",
      "To enable the following instructions: AVX2 FMA, in other operations, rebuild TensorFlow with the appropriate compiler flags.\n",
      "2023-06-08 19:14:13.673240: W tensorflow/compiler/tf2tensorrt/utils/py_utils.cc:38] TF-TRT Warning: Could not find TensorRT\n"
     ]
    }
   ],
   "source": [
    "import tensorflow as tf\n",
    "import numpy as np"
   ]
  },
  {
   "cell_type": "markdown",
   "metadata": {},
   "source": [
    "\n",
    "# Introducción a Tensores\n",
    "\n",
    "Los tensores son arreglos multidimensionales con un tipo de dato uniforme (`dtype`). Podemos consultar todos los tipos de datos soportados en: [tf.dtypes.DType](https://www.tensorflow.org/api_docs/python/tf/dtypes/DType). Si estas familiarizado con [NumPy](https://numpy.org/devdocs/user/quickstart.html), los tensores son como los `np.arrays`.\n",
    "\n",
    "Cuando trabajemos con tensores, es importante considerar que todos los tensores son inmutables como los números y cadenas de texto en Python. Esto es, no podemos actualizar el contenido de un tensor, solamente crear uno nuevo.\n"
   ]
  },
  {
   "cell_type": "markdown",
   "metadata": {},
   "source": [
    "## 1. Creación de Tensores\n",
    "\n",
    "### 1.1 Escalar\n",
    "\n",
    "Un tensor escalar o tensor `rango-0` puede contener un valor y no tiene ejes. Veamos un ejemplo de cómo podemos definir un tensor escalar."
   ]
  },
  {
   "cell_type": "code",
   "execution_count": 2,
   "metadata": {},
   "outputs": [
    {
     "name": "stdout",
     "output_type": "stream",
     "text": [
      "<class 'tensorflow.python.framework.ops.EagerTensor'>\n",
      "tf.Tensor(10, shape=(), dtype=int32)\n"
     ]
    }
   ],
   "source": [
    "tensor_r0 = tf.constant(10)\n",
    "print(type(tensor_r0))\n",
    "print(tensor_r0)"
   ]
  },
  {
   "cell_type": "markdown",
   "metadata": {},
   "source": [
    "Observemos que el tipo de dato que almacena nuestro tensor `rango-0` es un entero de 32 bits. ¿Cómo podemos definir un tensor escalar que almacene tipos de datos reales?"
   ]
  },
  {
   "cell_type": "code",
   "execution_count": 3,
   "metadata": {},
   "outputs": [
    {
     "name": "stdout",
     "output_type": "stream",
     "text": [
      "<class 'tensorflow.python.framework.ops.EagerTensor'>\n",
      "tf.Tensor(10.5, shape=(), dtype=float32)\n"
     ]
    }
   ],
   "source": [
    "tensor_r1 = tf.constant(10.5,dtype=tf.float32)\n",
    "print(type(tensor_r1))\n",
    "print(tensor_r1)"
   ]
  },
  {
   "cell_type": "markdown",
   "metadata": {},
   "source": [
    "### 1.2 Vector\n",
    "\n",
    "Un vector o tensor `rango-1` tiene un eje y es como una lista de valores. Es importante recordar que los tensores permiten almacenar valores de un tipo de dato uniforme. Es decir, un tensor no puede almacenar 4 valores de tipo `int32` y uno de tipo  `float16`.\n",
    "\n",
    "Veamos cómo definir un tensor que permita almacenar los valores: 2, 3, 4, 5."
   ]
  },
  {
   "cell_type": "code",
   "execution_count": 11,
   "metadata": {},
   "outputs": [
    {
     "name": "stdout",
     "output_type": "stream",
     "text": [
      "[2 3 4 5]\n"
     ]
    },
    {
     "data": {
      "text/plain": [
       "(4,)"
      ]
     },
     "execution_count": 11,
     "metadata": {},
     "output_type": "execute_result"
    }
   ],
   "source": [
    "tensor_rn1 = np.array([2,3,4,5])\n",
    "print(tensor_rn1)\n",
    "np.shape(tensor_rn1)"
   ]
  },
  {
   "cell_type": "code",
   "execution_count": 13,
   "metadata": {},
   "outputs": [
    {
     "name": "stdout",
     "output_type": "stream",
     "text": [
      "<class 'tensorflow.python.framework.ops.EagerTensor'>\n",
      "tf.Tensor([2 3 5 5], shape=(4,), dtype=int8)\n"
     ]
    },
    {
     "data": {
      "text/plain": [
       "TensorShape([4])"
      ]
     },
     "execution_count": 13,
     "metadata": {},
     "output_type": "execute_result"
    }
   ],
   "source": [
    "#con tensor flow\n",
    "tensor_trn1 = tf.constant([2,3,5,5],dtype=tf.int8)\n",
    "print(type(tensor_trn1))\n",
    "print(tensor_trn1)\n",
    "np.shape(tensor_trn1)"
   ]
  },
  {
   "cell_type": "markdown",
   "metadata": {},
   "source": [
    "Obervemos que ahora el tensor almacena la lista de valores como datos de tipo entero de 32 bits. Y ahora el tensor tiene un eje de tamaño 4."
   ]
  },
  {
   "cell_type": "code",
   "execution_count": 19,
   "metadata": {},
   "outputs": [
    {
     "name": "stdout",
     "output_type": "stream",
     "text": [
      "<class 'tensorflow.python.framework.ops.EagerTensor'>\n",
      "tf.Tensor(\n",
      "[[2.  3.  5.  5. ]\n",
      " [2.  4.5 5.  5. ]\n",
      " [2.  3.  5.  5. ]], shape=(3, 4), dtype=float32)\n"
     ]
    },
    {
     "data": {
      "text/plain": [
       "TensorShape([3, 4])"
      ]
     },
     "execution_count": 19,
     "metadata": {},
     "output_type": "execute_result"
    }
   ],
   "source": [
    "tensor_rn2 = tf.constant([[2,3,5,5],\n",
    "                         [2,4.5,5,5],\n",
    "                         [2,3,5,5]])\n",
    "                         \n",
    "print(type(tensor_rn2))\n",
    "print(tensor_rn2)\n",
    "np.shape(tensor_rn2)"
   ]
  },
  {
   "cell_type": "code",
   "execution_count": 21,
   "metadata": {},
   "outputs": [
    {
     "name": "stdout",
     "output_type": "stream",
     "text": [
      "<class 'tensorflow.python.framework.ops.EagerTensor'>\n",
      "tf.Tensor(\n",
      "[[2.  3.  5.  5. ]\n",
      " [2.  4.5 5.  5. ]\n",
      " [2.  3.  5.  5. ]], shape=(3, 4), dtype=float16)\n"
     ]
    },
    {
     "data": {
      "text/plain": [
       "TensorShape([3, 4])"
      ]
     },
     "execution_count": 21,
     "metadata": {},
     "output_type": "execute_result"
    }
   ],
   "source": [
    "tensor_rn2 = tf.constant([[2,3,5,5],\n",
    "                         [2,4.5,5,5],\n",
    "                         [2,3,5,5]],dtype=tf.float16)\n",
    "                         \n",
    "print(type(tensor_rn2))\n",
    "print(tensor_rn2)\n",
    "np.shape(tensor_rn2)"
   ]
  },
  {
   "cell_type": "markdown",
   "metadata": {},
   "source": [
    "### 1.3 Matriz\n",
    "\n",
    "Una matriz o tensor `rango-2` tiene dos ejes. Veamos un ejemplo de la definición de un tensor que permite almacenar los siguientes valores: \n",
    "$$\n",
    "\\\\\n",
    "\\begin{equation*}\n",
    "\\begin{bmatrix}\n",
    "6.2 & 8.7 \\\\\n",
    "2.5 & 9.4 \\\\\n",
    "4.1 & 5.0\n",
    "\\end{bmatrix}\n",
    "\\end{equation*}\n",
    "$$"
   ]
  },
  {
   "cell_type": "code",
   "execution_count": 30,
   "metadata": {},
   "outputs": [
    {
     "name": "stdout",
     "output_type": "stream",
     "text": [
      "<class 'tensorflow.python.framework.ops.EagerTensor'>\n",
      "[[6.2 8.7]\n",
      " [4.1 5.4]]\n"
     ]
    }
   ],
   "source": [
    "tensor_rango2 = tf.constant([[6.2,8.7],\n",
    "                            [4.1,5.4]])\n",
    "print(type(tensor_rango2))\n",
    "np.shape(tensor_rn2)\n",
    "print(f\"{tensor_rango2}\")"
   ]
  },
  {
   "cell_type": "markdown",
   "metadata": {},
   "source": [
    "Obervemos que el tensor resultante almacena los datos de tipo `float16 bits` acorde a lo que indicamos en el código. Notemos que el tensor tiene dos ejes y ambos ejes tienen un tamaño igual 3.\n",
    "\n",
    "Dos elementos básicos con los que debemos tener cuidado son:\n",
    "\n",
    "- Rango del tensor\n",
    "- Ejes del tensor\n",
    "- Tamaño de cada eje\n",
    "\n",
    "En la siguiente figura podemos ver una representación gráfica de los tensores que hemos creado previamente.\n",
    "\n",
    "<img title=\"Tensores\" alt=\"Alt text\" src=\"/home/xterm/Documentos/dl2023/tensorflow/code/fundamentos_tf/images/tensores-r0_2.png\">"
   ]
  },
  {
   "cell_type": "markdown",
   "metadata": {},
   "source": [
    "### 1.4 Tensores de rango-N\n",
    "\n",
    "Los tensores podrían tener más de dos ejes, veamos un tensor con tres ejes:"
   ]
  },
  {
   "cell_type": "code",
   "execution_count": 24,
   "metadata": {},
   "outputs": [
    {
     "name": "stdout",
     "output_type": "stream",
     "text": [
      "<class 'tensorflow.python.framework.ops.EagerTensor'>\n",
      "tf.Tensor(\n",
      "[[[2.  3.  5.  5. ]\n",
      "  [2.  4.5 5.  5. ]\n",
      "  [2.  3.  5.  5. ]]\n",
      "\n",
      " [[2.  3.  5.  5. ]\n",
      "  [2.  4.5 5.  5. ]\n",
      "  [2.  3.  5.  5. ]]\n",
      "\n",
      " [[2.  3.  5.  5. ]\n",
      "  [2.  4.5 5.  5. ]\n",
      "  [2.  3.  5.  5. ]]], shape=(3, 3, 4), dtype=float32)\n"
     ]
    },
    {
     "data": {
      "text/plain": [
       "TensorShape([3, 3, 4])"
      ]
     },
     "execution_count": 24,
     "metadata": {},
     "output_type": "execute_result"
    }
   ],
   "source": [
    "tensor_rn3 = tf.constant([[[2,3,5,5],\n",
    "                         [2,4.5,5,5],\n",
    "                         [2,3,5,5]],\n",
    "                          [[2,3,5,5],\n",
    "                         [2,4.5,5,5],\n",
    "                         [2,3,5,5]],\n",
    "                          [[2,3,5,5],\n",
    "                         [2,4.5,5,5],\n",
    "                         [2,3,5,5]]])\n",
    "                         \n",
    "print(type(tensor_rn3))\n",
    "print(tensor_rn3)\n",
    "np.shape(tensor_rn3)"
   ]
  },
  {
   "cell_type": "markdown",
   "metadata": {},
   "source": [
    "Existen diversas formas en las que podemos visualizar un tensor con más de dos ejes, por ejemplo, nuestro tensor de tres ejes podríamos visualizarlo de la siguiente forma.\n",
    "\n",
    "<img title=\"Tensores\" alt=\"Alt text\" src=\"/home/xterm/Documentos/dl2023/tensorflow/code/fundamentos_tf/images/tensores-r3.png\">"
   ]
  },
  {
   "cell_type": "markdown",
   "metadata": {},
   "source": [
    "## 2. Conversión de tensores a arreglos `NumPy`\n",
    "\n",
    "Podemos convertir un tensor a rreglo `NumPy` utilizando `np.array` o el método `tensor.numpy`, veamos algunos ejemplos de conversión:"
   ]
  },
  {
   "cell_type": "code",
   "execution_count": 34,
   "metadata": {},
   "outputs": [
    {
     "name": "stdout",
     "output_type": "stream",
     "text": [
      "<class 'numpy.ndarray'>\n"
     ]
    },
    {
     "data": {
      "text/plain": [
       "array([[2. , 3. , 5. , 5. ],\n",
       "       [2. , 4.5, 5. , 5. ],\n",
       "       [2. , 3. , 5. , 5. ]], dtype=float16)"
      ]
     },
     "execution_count": 34,
     "metadata": {},
     "output_type": "execute_result"
    }
   ],
   "source": [
    "array2d = tensor_rn2.numpy()\n",
    "print(type(array2d))\n",
    "array2d"
   ]
  },
  {
   "cell_type": "code",
   "execution_count": 35,
   "metadata": {},
   "outputs": [
    {
     "name": "stdout",
     "output_type": "stream",
     "text": [
      "tf.Tensor([0. 0. 0. 0. 0. 0. 0. 0. 0. 0. 0. 0. 0. 0. 0. 0. 0. 0. 0. 0.], shape=(20,), dtype=float32)\n"
     ]
    }
   ],
   "source": [
    "#Creat un tensopr 1D para almacenar 20 numeros enteros inicializado en 0s\n",
    "tensorX=tf.zeros(shape=(20,))\n",
    "print(tensorX)"
   ]
  },
  {
   "cell_type": "code",
   "execution_count": 36,
   "metadata": {},
   "outputs": [
    {
     "name": "stdout",
     "output_type": "stream",
     "text": [
      "tf.Tensor(\n",
      "[[0. 0. 0. 0. 0. 0. 0. 0. 0. 0.]\n",
      " [0. 0. 0. 0. 0. 0. 0. 0. 0. 0.]], shape=(2, 10), dtype=float32)\n"
     ]
    }
   ],
   "source": [
    "#changing the tensor shape.\n",
    "newTensor = tf.reshape(tensorX, (2,10))\n",
    "print(newTensor)"
   ]
  },
  {
   "cell_type": "code",
   "execution_count": 38,
   "metadata": {},
   "outputs": [
    {
     "name": "stdout",
     "output_type": "stream",
     "text": [
      "tf.Tensor(\n",
      "[[[0. 0. 0. ... 0. 0. 0.]\n",
      "  [0. 0. 0. ... 0. 0. 0.]\n",
      "  [0. 0. 0. ... 0. 0. 0.]\n",
      "  ...\n",
      "  [0. 0. 0. ... 0. 0. 0.]\n",
      "  [0. 0. 0. ... 0. 0. 0.]\n",
      "  [0. 0. 0. ... 0. 0. 0.]]\n",
      "\n",
      " [[0. 0. 0. ... 0. 0. 0.]\n",
      "  [0. 0. 0. ... 0. 0. 0.]\n",
      "  [0. 0. 0. ... 0. 0. 0.]\n",
      "  ...\n",
      "  [0. 0. 0. ... 0. 0. 0.]\n",
      "  [0. 0. 0. ... 0. 0. 0.]\n",
      "  [0. 0. 0. ... 0. 0. 0.]]\n",
      "\n",
      " [[0. 0. 0. ... 0. 0. 0.]\n",
      "  [0. 0. 0. ... 0. 0. 0.]\n",
      "  [0. 0. 0. ... 0. 0. 0.]\n",
      "  ...\n",
      "  [0. 0. 0. ... 0. 0. 0.]\n",
      "  [0. 0. 0. ... 0. 0. 0.]\n",
      "  [0. 0. 0. ... 0. 0. 0.]]\n",
      "\n",
      " ...\n",
      "\n",
      " [[0. 0. 0. ... 0. 0. 0.]\n",
      "  [0. 0. 0. ... 0. 0. 0.]\n",
      "  [0. 0. 0. ... 0. 0. 0.]\n",
      "  ...\n",
      "  [0. 0. 0. ... 0. 0. 0.]\n",
      "  [0. 0. 0. ... 0. 0. 0.]\n",
      "  [0. 0. 0. ... 0. 0. 0.]]\n",
      "\n",
      " [[0. 0. 0. ... 0. 0. 0.]\n",
      "  [0. 0. 0. ... 0. 0. 0.]\n",
      "  [0. 0. 0. ... 0. 0. 0.]\n",
      "  ...\n",
      "  [0. 0. 0. ... 0. 0. 0.]\n",
      "  [0. 0. 0. ... 0. 0. 0.]\n",
      "  [0. 0. 0. ... 0. 0. 0.]]\n",
      "\n",
      " [[0. 0. 0. ... 0. 0. 0.]\n",
      "  [0. 0. 0. ... 0. 0. 0.]\n",
      "  [0. 0. 0. ... 0. 0. 0.]\n",
      "  ...\n",
      "  [0. 0. 0. ... 0. 0. 0.]\n",
      "  [0. 0. 0. ... 0. 0. 0.]\n",
      "  [0. 0. 0. ... 0. 0. 0.]]], shape=(20, 20, 20), dtype=float32)\n"
     ]
    }
   ],
   "source": [
    "#New tensor 3D\n",
    "tensor3X=tf.zeros(shape=(20,20,20))\n",
    "print(tensor3X)"
   ]
  },
  {
   "cell_type": "markdown",
   "metadata": {},
   "source": [
    "La clase base [`tf.Tensor`](https://www.tensorflow.org/api_docs/python/tf/Tensor) requiere que los tensores sean rectangulares. Esto es, a lo largo de cada eje, cada elemento tiene el mismo tamaño. Sin embargo, existen tipos especializados de tensores que pueden manejar diferentes formas. Por ejemplo:\n",
    "- [RaggedTensor](https://www.tensorflow.org/guide/tensor#ragged_tensors) \n",
    "- [SparseTensor](https://www.tensorflow.org/guide/tensor#sparse_tensors)"
   ]
  },
  {
   "cell_type": "markdown",
   "metadata": {},
   "source": [
    "# 3. Uso de Variable\n",
    "\n",
    "Una variable de TensorFlow es la mejor manera de representar un estado compartido y persistente que puede ser manipulado por un programa.\n",
    "\n",
    "Las variables en TensorFlow pueden ser manipuladas via la clase **tf.Variable**. Una **tf.Variable** representa el valor de un tensor que puede cambiar ejecutando operaciones sobre él. Librerias de alto nivel como **tf.keras** usan **tf.Variable** para guardar parametros del modelo.\n",
    "\n",
    "Veamos cómo crear Variables."
   ]
  },
  {
   "cell_type": "code",
   "execution_count": 41,
   "metadata": {},
   "outputs": [
    {
     "name": "stdout",
     "output_type": "stream",
     "text": [
      "<tf.Variable 'myVar:0' shape=() dtype=int32, numpy=0>\n"
     ]
    }
   ],
   "source": [
    "#crear un Tensor tipo variable para escalar\n",
    "myVar=tf.Variable(0,name='myVar')\n",
    "print(myVar)\n"
   ]
  },
  {
   "cell_type": "code",
   "execution_count": 44,
   "metadata": {},
   "outputs": [
    {
     "name": "stdout",
     "output_type": "stream",
     "text": [
      "<tf.Variable 'myVar1:0' shape=(3,) dtype=int32, numpy=array([1, 2, 3], dtype=int32)>\n"
     ]
    }
   ],
   "source": [
    "#Tensor tipo variable 1D\n",
    "myVar1D=tf.Variable([1,2,3],name='myVar1')\n",
    "print(myVar1D)"
   ]
  },
  {
   "cell_type": "code",
   "execution_count": 46,
   "metadata": {},
   "outputs": [
    {
     "data": {
      "text/plain": [
       "<tf.Variable 'UnreadVariable' shape=() dtype=int32, numpy=1>"
      ]
     },
     "execution_count": 46,
     "metadata": {},
     "output_type": "execute_result"
    }
   ],
   "source": [
    "#Asignar un valor a un Tensor tipo variable.\n",
    "myVar.assign(1)"
   ]
  },
  {
   "cell_type": "code",
   "execution_count": 51,
   "metadata": {},
   "outputs": [
    {
     "data": {
      "text/plain": [
       "<tf.Variable 'UnreadVariable' shape=() dtype=int32, numpy=10>"
      ]
     },
     "execution_count": 51,
     "metadata": {},
     "output_type": "execute_result"
    }
   ],
   "source": [
    "#Decrementar un valor a un Tensor tipo variable.\n",
    "myVar.assign_sub(1)"
   ]
  },
  {
   "cell_type": "code",
   "execution_count": 53,
   "metadata": {},
   "outputs": [
    {
     "data": {
      "text/plain": [
       "<tf.Variable 'UnreadVariable' shape=() dtype=int32, numpy=32>"
      ]
     },
     "execution_count": 53,
     "metadata": {},
     "output_type": "execute_result"
    }
   ],
   "source": [
    "#Decrementar un valor a un Tensor tipo variable.\n",
    "myVar.assign_add(11)"
   ]
  },
  {
   "cell_type": "code",
   "execution_count": 55,
   "metadata": {},
   "outputs": [
    {
     "name": "stdout",
     "output_type": "stream",
     "text": [
      "tf.Tensor(35, shape=(), dtype=int32)\n"
     ]
    }
   ],
   "source": [
    "w = myVar + 3\n",
    "print(w)"
   ]
  },
  {
   "cell_type": "code",
   "execution_count": 56,
   "metadata": {},
   "outputs": [
    {
     "name": "stdout",
     "output_type": "stream",
     "text": [
      "tf.Tensor(35, shape=(), dtype=int32)\n"
     ]
    }
   ],
   "source": [
    "myVar = myVar + 3\n",
    "print(myVar)"
   ]
  }
 ],
 "metadata": {
  "kernelspec": {
   "display_name": "Python 3 (ipykernel)",
   "language": "python",
   "name": "python3"
  },
  "language_info": {
   "codemirror_mode": {
    "name": "ipython",
    "version": 3
   },
   "file_extension": ".py",
   "mimetype": "text/x-python",
   "name": "python",
   "nbconvert_exporter": "python",
   "pygments_lexer": "ipython3",
   "version": "3.11.3"
  },
  "vscode": {
   "interpreter": {
    "hash": "ec0eba9180ced9e182653478e836957887378f9a7ec1da2bff9fc52d614864c6"
   }
  }
 },
 "nbformat": 4,
 "nbformat_minor": 2
}
