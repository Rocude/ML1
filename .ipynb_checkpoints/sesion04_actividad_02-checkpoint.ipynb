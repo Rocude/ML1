{
 "cells": [
  {
   "cell_type": "markdown",
   "metadata": {
    "id": "BZGQvyN8bEWH"
   },
   "source": [
    "# El gradiente y la diferenciación automática\n",
    "\n",
    "Automátizar la diferenciación es útil para implementar algoritmos de aprendizaje supervisado, como la retropropagación para entrenar redes neuronales.\n",
    "\n",
    "En esta actividad, exploraremos cómo ccular gradientes con TensorFlow."
   ]
  },
  {
   "cell_type": "code",
   "execution_count": 1,
   "metadata": {
    "id": "muTL941kMYc0"
   },
   "outputs": [
    {
     "name": "stderr",
     "output_type": "stream",
     "text": [
      "2023-06-08 20:49:48.289544: I tensorflow/tsl/cuda/cudart_stub.cc:28] Could not find cuda drivers on your machine, GPU will not be used.\n",
      "2023-06-08 20:49:48.331757: I tensorflow/tsl/cuda/cudart_stub.cc:28] Could not find cuda drivers on your machine, GPU will not be used.\n",
      "2023-06-08 20:49:48.332172: I tensorflow/core/platform/cpu_feature_guard.cc:182] This TensorFlow binary is optimized to use available CPU instructions in performance-critical operations.\n",
      "To enable the following instructions: AVX2 FMA, in other operations, rebuild TensorFlow with the appropriate compiler flags.\n",
      "2023-06-08 20:49:49.037243: W tensorflow/compiler/tf2tensorrt/utils/py_utils.cc:38] TF-TRT Warning: Could not find TensorRT\n"
     ]
    }
   ],
   "source": [
    "import numpy as np\n",
    "import matplotlib.pyplot as plt\n",
    "\n",
    "import tensorflow as tf"
   ]
  },
  {
   "cell_type": "markdown",
   "metadata": {
    "id": "vTJXzz7mb_cr"
   },
   "source": [
    "## Cálculo degradientes\n",
    "\n",
    "Para implementar la diferenciación automática, TensorFlow necesita recordar qué operaciones suceden y en qué orden durante la propagación hacia adelante (Forward propagation). Posteriormente, durante la propagación hacia atrás (Backward propagation), TensorFlow recorre la lista de operaciones en orden inverso para calcular los gradientes."
   ]
  },
  {
   "cell_type": "markdown",
   "metadata": {
    "id": "OSp_kHuwM2cF"
   },
   "source": [
    "## Cálculo de gradientes\n",
    "\n",
    "Para diferenciar automáticamente, TensorFlow necesita recordar qué operaciones suceden y en qué orden durante el paso hacia adelante . Luego, durante el paso hacia atrás , TensorFlow recorre esta lista de operaciones en orden inverso para calcular los gradientes."
   ]
  },
  {
   "cell_type": "markdown",
   "metadata": {
    "id": "3Djg7fjzc2Yc"
   },
   "source": [
    "## Cintas de gradientes\n",
    "\n",
    "TensorFlow proporciona la API **tf.GradientTape** para implementar la diferenciación automática; es decir, calcular el gradiente de una operación con respecto a algunas entradas, generalmente tensores tipo **tf.Variable**. \n",
    "\n",
    "TensorFlow graba las operaciones ejecutadas dentro del contexto de un **tf.GradientTape** en una \"cinta\". Posteriormente, TensorFlow utiliza la cinta para calcular los gradientes de una operación \"grabada\" mediante la diferenciación recorriendo la cinta en orden inverso [[1]](https://en.wikipedia.org/wiki/Automatic_differentiation).\n",
    "\n",
    "Veamos un ejemplo del uso de **tf.GradientTape** para diferenciar una operación."
   ]
  },
  {
   "cell_type": "code",
   "execution_count": 5,
   "metadata": {
    "id": "nqS9pnHdMpxC"
   },
   "outputs": [],
   "source": [
    "x = tf.Variable(3.0)\n",
    "with tf.GradientTape() as tape:\n",
    "    y=x**2\n"
   ]
  },
  {
   "cell_type": "code",
   "execution_count": 6,
   "metadata": {},
   "outputs": [
    {
     "name": "stdout",
     "output_type": "stream",
     "text": [
      "6.0\n"
     ]
    }
   ],
   "source": [
    "dy_dx = tape.gradient(y,x)\n",
    "print(dy_dx.numpy())"
   ]
  },
  {
   "cell_type": "markdown",
   "metadata": {
    "id": "qtO5B_A-nvlA"
   },
   "source": [
    "En la celda anterior hemos alamacenado en la cinta **$x^2$**. Podemos utilizar tf.GradientTape.gradient(target, source) para calcular el gradiente sobre algún target, normalmente un costo (**loss**) relativo a un conjunto de **variables** (source).\n",
    "\n",
    "Veamos un ejemplo, "
   ]
  },
  {
   "cell_type": "code",
   "execution_count": null,
   "metadata": {
    "id": "YgXYyguUNdtn"
   },
   "outputs": [],
   "source": [
    "\n",
    "\n"
   ]
  },
  {
   "cell_type": "markdown",
   "metadata": {
    "id": "FgCG9N2aPg8_"
   },
   "source": [
    "En el ejemplo anterior aplicamos la diferenciación sobre variables escalares, pero **tf.GradientTape** fácilmente se puede aplicar sobre cualquier **Tensor**. Veamos un ejemplo de la diferenciación automática sobre tensores 2D. "
   ]
  },
  {
   "cell_type": "code",
   "execution_count": null,
   "metadata": {
    "id": "Z0j5rYTDQJmr"
   },
   "outputs": [],
   "source": [
    "\n",
    "\n"
   ]
  },
  {
   "cell_type": "markdown",
   "metadata": {
    "id": "YDVF05hTusI0"
   },
   "source": [
    "Para obtener el gradiente del **loss** con respecto a las variables, podemos pasarlas como **sources** al método **gradient**. La cinta es flexible respecto a cuantas variables se pasan como **sources**, ya sea como lista o diccionario, retornando los gradientes estructurados de la misma forma."
   ]
  },
  {
   "cell_type": "code",
   "execution_count": null,
   "metadata": {
    "id": "KAzN7e_9uqXK"
   },
   "outputs": [],
   "source": [
    "\n",
    "\n"
   ]
  },
  {
   "cell_type": "markdown",
   "metadata": {
    "id": "FxEkNejiwBZz"
   },
   "source": [
    "El gradiente con respecto a cada **source** tiene la forma del mismo **source**."
   ]
  },
  {
   "cell_type": "code",
   "execution_count": null,
   "metadata": {
    "id": "3lEMjH4-QxX9"
   },
   "outputs": [],
   "source": [
    "\n"
   ]
  },
  {
   "cell_type": "markdown",
   "metadata": {
    "id": "ZJqm6Fh5xBSI"
   },
   "source": [
    "En el ejemplo anterior las variables se encuentran estructuradas como una lista, veamos como pasar las variables como un diccionario. "
   ]
  },
  {
   "cell_type": "code",
   "execution_count": null,
   "metadata": {
    "id": "XlnOaVBjwJvk"
   },
   "outputs": [],
   "source": []
  },
  {
   "cell_type": "markdown",
   "metadata": {
    "id": "2ZDParr7x4mB"
   },
   "source": [
    "## Gradientes con respecto a un modelo\n",
    "\n",
    "Veamos como podemos utilizar **GradienteTape** sobre un modelo."
   ]
  },
  {
   "cell_type": "code",
   "execution_count": null,
   "metadata": {
    "id": "jDlfNl8BEZnZ"
   },
   "outputs": [],
   "source": []
  }
 ],
 "metadata": {
  "colab": {
   "provenance": []
  },
  "kernelspec": {
   "display_name": "Python 3 (ipykernel)",
   "language": "python",
   "name": "python3"
  },
  "language_info": {
   "codemirror_mode": {
    "name": "ipython",
    "version": 3
   },
   "file_extension": ".py",
   "mimetype": "text/x-python",
   "name": "python",
   "nbconvert_exporter": "python",
   "pygments_lexer": "ipython3",
   "version": "3.11.3"
  }
 },
 "nbformat": 4,
 "nbformat_minor": 1
}
