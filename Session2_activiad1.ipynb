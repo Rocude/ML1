{
  "cells": [
    {
      "cell_type": "code",
      "execution_count": null,
      "id": "e93b5e57",
      "metadata": {
        "id": "e93b5e57",
        "outputId": "6515e021-0e67-4d6a-a196-70203828dda6"
      },
      "outputs": [
        {
          "name": "stderr",
          "output_type": "stream",
          "text": [
            "2023-06-05 17:15:28.513543: I tensorflow/tsl/cuda/cudart_stub.cc:28] Could not find cuda drivers on your machine, GPU will not be used.\n",
            "2023-06-05 17:15:28.552774: I tensorflow/tsl/cuda/cudart_stub.cc:28] Could not find cuda drivers on your machine, GPU will not be used.\n",
            "2023-06-05 17:15:28.553379: I tensorflow/core/platform/cpu_feature_guard.cc:182] This TensorFlow binary is optimized to use available CPU instructions in performance-critical operations.\n",
            "To enable the following instructions: AVX2 FMA, in other operations, rebuild TensorFlow with the appropriate compiler flags.\n",
            "2023-06-05 17:15:29.294761: W tensorflow/compiler/tf2tensorrt/utils/py_utils.cc:38] TF-TRT Warning: Could not find TensorRT\n"
          ]
        }
      ],
      "source": [
        "import tensorflow as ts\n"
      ]
    },
    {
      "cell_type": "code",
      "execution_count": null,
      "id": "e899f617",
      "metadata": {
        "id": "e899f617"
      },
      "outputs": [],
      "source": [
        "import numpy as np"
      ]
    },
    {
      "cell_type": "code",
      "execution_count": null,
      "id": "296813f6",
      "metadata": {
        "id": "296813f6"
      },
      "outputs": [],
      "source": [
        "#activation function\n",
        "def relu(z):\n",
        "    return np.maximun(0, z)"
      ]
    },
    {
      "cell_type": "code",
      "execution_count": null,
      "id": "fb0ea58d",
      "metadata": {
        "id": "fb0ea58d"
      },
      "outputs": [],
      "source": [
        "def sigmoid(z):\n",
        "    return 1/(1+np.exp(-z))"
      ]
    },
    {
      "cell_type": "code",
      "execution_count": null,
      "id": "64dae26d",
      "metadata": {
        "id": "64dae26d"
      },
      "outputs": [],
      "source": [
        "#first approximation\n",
        "def predict(X):\n",
        "    #weight vector definitions w1, w2\n",
        "    w = np.array([3,-2])\n",
        "    w0 = 1\n",
        "    #T is the traspose matrix\n",
        "    z = w0 + np.dot(X.T,w)\n",
        "    yp = sigmoid(z)\n",
        "    return yp\n",
        "    "
      ]
    },
    {
      "cell_type": "code",
      "execution_count": null,
      "id": "7f33b15c",
      "metadata": {
        "id": "7f33b15c"
      },
      "outputs": [],
      "source": [
        "example1 = np.array([23,172.1])\n",
        "example2 = np.array([22,183.5])\n",
        "example3 = np.array([22,168.3])\n",
        "example4 = np.array([26,183.5])\n",
        "\n",
        "print(predict(example1))\n",
        "print(predict(example2))\n",
        "print(predict(example3))\n",
        "print(predict(example4))\n",
        "\n"
      ]
    },
    {
      "cell_type": "code",
      "execution_count": null,
      "id": "0b204859",
      "metadata": {
        "id": "0b204859"
      },
      "outputs": [],
      "source": [
        "import pandas as pd\n",
        "\n",
        "Modifying the file."
      ]
    },
    {
      "cell_type": "code",
      "execution_count": null,
      "id": "dbbef91d",
      "metadata": {
        "id": "dbbef91d"
      },
      "outputs": [],
      "source": [
        "path = 'file/subco.csv'\n",
        "df = pd.read"
      ]
    },
    {
      "cell_type": "code",
      "execution_count": null,
      "id": "a8fe3ce6",
      "metadata": {
        "id": "a8fe3ce6"
      },
      "outputs": [],
      "source": [
        "dp.plot(kind)"
      ]
    },
    {
      "cell_type": "code",
      "execution_count": null,
      "id": "49d15586",
      "metadata": {
        "id": "49d15586"
      },
      "outputs": [],
      "source": []
    },
    {
      "cell_type": "code",
      "execution_count": null,
      "id": "11b05817",
      "metadata": {
        "id": "11b05817"
      },
      "outputs": [],
      "source": [
        "X = df[['Edad'.'Estatura']].to_numpy()"
      ]
    },
    {
      "cell_type": "code",
      "execution_count": null,
      "id": "bea86c7b",
      "metadata": {
        "id": "bea86c7b"
      },
      "outputs": [],
      "source": []
    }
  ],
  "metadata": {
    "kernelspec": {
      "display_name": "Python 3 (ipykernel)",
      "language": "python",
      "name": "python3"
    },
    "language_info": {
      "codemirror_mode": {
        "name": "ipython",
        "version": 3
      },
      "file_extension": ".py",
      "mimetype": "text/x-python",
      "name": "python",
      "nbconvert_exporter": "python",
      "pygments_lexer": "ipython3",
      "version": "3.9.7"
    },
    "colab": {
      "provenance": []
    }
  },
  "nbformat": 4,
  "nbformat_minor": 5
}