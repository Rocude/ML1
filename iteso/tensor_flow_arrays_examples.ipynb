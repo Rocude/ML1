{
 "cells": [
  {
   "cell_type": "code",
   "execution_count": 3,
   "id": "ae92a22d",
   "metadata": {},
   "outputs": [
    {
     "name": "stdout",
     "output_type": "stream",
     "text": [
      "(4,)\n"
     ]
    }
   ],
   "source": [
    "#1D\n",
    "import numpy as np\n",
    "t_1d = np.array([12,13,6,13])\n",
    "print(t_1d.shape)"
   ]
  },
  {
   "cell_type": "code",
   "execution_count": 7,
   "id": "d24f8a96",
   "metadata": {},
   "outputs": [
    {
     "name": "stdout",
     "output_type": "stream",
     "text": [
      "(3, 5)\n"
     ]
    }
   ],
   "source": [
    "#2D\n",
    "t_2d = np.array([[5,78,2,34,9],\n",
    "                 [6,79,3,35,1],\n",
    "                 [7,80,4,36,2]])\n",
    "print(t_2d.shape)"
   ]
  },
  {
   "cell_type": "code",
   "execution_count": 10,
   "id": "d502b89d",
   "metadata": {},
   "outputs": [
    {
     "name": "stdout",
     "output_type": "stream",
     "text": [
      "(3, 5, 3)\n"
     ]
    }
   ],
   "source": [
    "tensor_3d = np.array([[[1, 2, 3],\n",
    "                      [4, 5, 6],\n",
    "                      [7, 8, 9],\n",
    "                      [10, 11, 12],\n",
    "                      [13, 14, 15]],\n",
    "                     \n",
    "                     [[16, 17, 18],\n",
    "                      [19, 20, 21],\n",
    "                      [22, 23, 24],\n",
    "                      [25, 26, 27],\n",
    "                      [28, 29, 30]],\n",
    "                     \n",
    "                     [[31, 32, 33],\n",
    "                      [34, 35, 36],\n",
    "                      [37, 38, 39],\n",
    "                      [40, 41, 42],\n",
    "                      [43, 44, 45]]])\n",
    "print(tensor_3d.shape)"
   ]
  },
  {
   "cell_type": "code",
   "execution_count": 6,
   "id": "937c1db6",
   "metadata": {},
   "outputs": [
    {
     "ename": "SyntaxError",
     "evalue": "closing parenthesis ')' does not match opening parenthesis '[' on line 2 (3661052411.py, line 10)",
     "output_type": "error",
     "traceback": [
      "\u001b[0;36m  File \u001b[0;32m\"/tmp/ipykernel_135628/3661052411.py\"\u001b[0;36m, line \u001b[0;32m10\u001b[0m\n\u001b[0;31m    [7,80,4,36,2]])\u001b[0m\n\u001b[0m                  ^\u001b[0m\n\u001b[0;31mSyntaxError\u001b[0m\u001b[0;31m:\u001b[0m closing parenthesis ')' does not match opening parenthesis '[' on line 2\n"
     ]
    }
   ],
   "source": [
    "#3D\n",
    "t_3d = np.array([ [[5,78,2,34,0],\n",
    "                 [6,79,3,35,1],\n",
    "                 [7,80,4,36,2]],\n",
    "                 [[5,78,2,34,0],\n",
    "                 [6,79,3,35,1],\n",
    "                 [7,80,4,36,2]],\n",
    "                 [[5,78,2,34,0],\n",
    "                 [6,79,3,35,1],\n",
    "                 [7,80,4,36,2]])\n",
    "print(t_3d.shape)"
   ]
  }
 ],
 "metadata": {
  "kernelspec": {
   "display_name": "Python 3 (ipykernel)",
   "language": "python",
   "name": "python3"
  },
  "language_info": {
   "codemirror_mode": {
    "name": "ipython",
    "version": 3
   },
   "file_extension": ".py",
   "mimetype": "text/x-python",
   "name": "python",
   "nbconvert_exporter": "python",
   "pygments_lexer": "ipython3",
   "version": "3.9.7"
  }
 },
 "nbformat": 4,
 "nbformat_minor": 5
}
